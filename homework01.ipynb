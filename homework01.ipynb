{
 "cells": [
  {
   "cell_type": "markdown",
   "metadata": {
    "slideshow": {
     "slide_type": "slide"
    }
   },
   "source": [
    "# The `Titanic` dataset\n",
    "\n",
    "Go to the following `kaggle` webpage [https://www.kaggle.com/c/titanic/data](https://www.kaggle.com/c/titanic/data)\n",
    "\n",
    "If you don't have a `kaggle` account, create one.\n",
    "\n",
    "Download the `train.csv` dataset.\n",
    "\n",
    "Answer the following questions using the libraries `pandas`, `seaborn` and/or any other library that you like.\n",
    "We expect you to produce **nice looking plots**, at least **readable** and perform the required computations\n",
    " as concisely as possible using the `pandas` API. This is the way we will evaluate this homework.\n",
    "\n",
    "Before boarding on the homework, import (install them if needed)\n",
    "the next modules.\n",
    "\n",
    "\n"
   ]
  },
  {
   "cell_type": "code",
   "execution_count": 57,
   "metadata": {
    "ExecuteTime": {
     "end_time": "2020-02-23T22:21:55.397047Z",
     "start_time": "2020-02-23T22:21:55.365713Z"
    },
    "autoscroll": "auto",
    "options": {
     "caption": false,
     "complete": true,
     "display_data": true,
     "display_stream": true,
     "dpi": 200,
     "echo": true,
     "evaluate": false,
     "f_env": null,
     "f_pos": "htpb",
     "f_size": [
      6,
      4
     ],
     "f_spines": true,
     "fig": true,
     "include": true,
     "name": null,
     "option_string": "evaluate=False",
     "results": "verbatim",
     "term": false,
     "wrap": "output"
    },
    "slideshow": {
     "slide_type": "subslide"
    }
   },
   "outputs": [],
   "source": [
    "import numpy as np\n",
    "import pandas as pd\n",
    "\n",
    "%matplotlib inline\n",
    "import matplotlib.pyplot as plt\n",
    "import seaborn as sns\n",
    "import pdpipe as pdp\n",
    "\n",
    "import requests\n",
    "\n",
    "import re\n",
    "import os\n",
    "from collections import namedtuple\n",
    "from collections import abc\n",
    "from statsmodels.graphics.mosaicplot import mosaic\n",
    "\n",
    "sns.set_context(\"notebook\", font_scale=1.2)"
   ]
  },
  {
   "cell_type": "markdown",
   "metadata": {
    "slideshow": {
     "slide_type": "slide"
    }
   },
   "source": [
    "The first thing to do is to read the description of\n",
    "the columns and understand what the dataset is about and what it contains.\n",
    "\n",
    "## Question : inspecting a DataFrame\n",
    "\n",
    "Open the dataframe with `pandas`, check the first lines of the dataset\n",
    "\n",
    "### Answer"
   ]
  },
  {
   "cell_type": "code",
   "execution_count": 58,
   "metadata": {
    "ExecuteTime": {
     "end_time": "2020-02-23T22:21:57.435393Z",
     "start_time": "2020-02-23T22:21:57.385802Z"
    },
    "autoscroll": "auto",
    "options": {
     "caption": false,
     "complete": true,
     "display_data": true,
     "display_stream": true,
     "dpi": 200,
     "echo": true,
     "evaluate": false,
     "f_env": null,
     "f_pos": "htpb",
     "f_size": [
      6,
      4
     ],
     "f_spines": true,
     "fig": true,
     "include": true,
     "name": null,
     "option_string": "evaluate=False",
     "results": "verbatim",
     "term": false,
     "wrap": "output"
    },
    "slideshow": {
     "slide_type": "subslide"
    }
   },
   "outputs": [
    {
     "name": "stdout",
     "output_type": "stream",
     "text": [
      "   PassengerId  Survived  Pclass  \\\n",
      "0            1         0       3   \n",
      "1            2         1       1   \n",
      "2            3         1       3   \n",
      "3            4         1       1   \n",
      "4            5         0       3   \n",
      "\n",
      "                                                Name     Sex   Age  SibSp  \\\n",
      "0                            Braund, Mr. Owen Harris    male  22.0      1   \n",
      "1  Cumings, Mrs. John Bradley (Florence Briggs Th...  female  38.0      1   \n",
      "2                             Heikkinen, Miss. Laina  female  26.0      0   \n",
      "3       Futrelle, Mrs. Jacques Heath (Lily May Peel)  female  35.0      1   \n",
      "4                           Allen, Mr. William Henry    male  35.0      0   \n",
      "\n",
      "   Parch            Ticket     Fare Cabin Embarked  \n",
      "0      0         A/5 21171   7.2500   NaN        S  \n",
      "1      0          PC 17599  71.2833   C85        C  \n",
      "2      0  STON/O2. 3101282   7.9250   NaN        S  \n",
      "3      0            113803  53.1000  C123        S  \n",
      "4      0            373450   8.0500   NaN        S  \n"
     ]
    }
   ],
   "source": [
    "df = pd.read_csv('train.csv')\n",
    "print(df.head())\n",
    "\n"
   ]
  },
  {
   "cell_type": "markdown",
   "metadata": {
    "slideshow": {
     "slide_type": "subslide"
    }
   },
   "source": [
    "\n",
    "Method `info`  print a a concise summary of a `DataFrame`.\n",
    "With optional parameter `memory_usage`, you can get an estimate\n",
    "of the amount of memory used by the `DataFrame`. Beware that\n",
    "the resulting estimate depends on the argument fed.\n",
    "\n"
   ]
  },
  {
   "cell_type": "code",
   "execution_count": 59,
   "metadata": {
    "ExecuteTime": {
     "end_time": "2020-02-23T22:21:59.730495Z",
     "start_time": "2020-02-23T22:21:59.702888Z"
    },
    "autoscroll": "auto",
    "options": {
     "caption": false,
     "complete": true,
     "display_data": true,
     "display_stream": true,
     "dpi": 200,
     "echo": true,
     "evaluate": false,
     "f_env": null,
     "f_pos": "htpb",
     "f_size": [
      6,
      4
     ],
     "f_spines": true,
     "fig": true,
     "include": true,
     "name": null,
     "option_string": "evaluate=False",
     "results": "verbatim",
     "term": false,
     "wrap": "output"
    },
    "slideshow": {
     "slide_type": "subslide"
    }
   },
   "outputs": [
    {
     "name": "stdout",
     "output_type": "stream",
     "text": [
      "<class 'pandas.core.frame.DataFrame'>\n",
      "RangeIndex: 891 entries, 0 to 890\n",
      "Data columns (total 12 columns):\n",
      "PassengerId    891 non-null int64\n",
      "Survived       891 non-null int64\n",
      "Pclass         891 non-null int64\n",
      "Name           891 non-null object\n",
      "Sex            891 non-null object\n",
      "Age            714 non-null float64\n",
      "SibSp          891 non-null int64\n",
      "Parch          891 non-null int64\n",
      "Ticket         891 non-null object\n",
      "Fare           891 non-null float64\n",
      "Cabin          204 non-null object\n",
      "Embarked       889 non-null object\n",
      "dtypes: float64(2), int64(5), object(5)\n",
      "memory usage: 83.7+ KB\n"
     ]
    }
   ],
   "source": [
    "df.info(\"memory_usage\")\n"
   ]
  },
  {
   "cell_type": "markdown",
   "metadata": {
    "slideshow": {
     "slide_type": "slide"
    }
   },
   "source": [
    "\n",
    "## Question: Checking the types of columns\n",
    "\n",
    "Check the types of the columns.\n",
    "\n",
    "- How do you obtain the type of a column?\n",
    "- How do you obtain the datatype (`dtype`) of elements of a column?\n",
    "\n",
    "### Answer\n",
    "\n"
   ]
  },
  {
   "cell_type": "code",
   "execution_count": 60,
   "metadata": {
    "ExecuteTime": {
     "end_time": "2020-02-23T22:22:02.053823Z",
     "start_time": "2020-02-23T22:22:01.906856Z"
    },
    "autoscroll": "auto",
    "options": {
     "caption": false,
     "complete": true,
     "display_data": true,
     "display_stream": true,
     "dpi": 200,
     "echo": true,
     "evaluate": false,
     "f_env": null,
     "f_pos": "htpb",
     "f_size": [
      6,
      4
     ],
     "f_spines": true,
     "fig": true,
     "include": true,
     "name": null,
     "option_string": "evaluate=False",
     "results": "verbatim",
     "term": false,
     "wrap": "output"
    },
    "slideshow": {
     "slide_type": "subslide"
    }
   },
   "outputs": [
    {
     "name": "stdout",
     "output_type": "stream",
     "text": [
      "PassengerId      int64\n",
      "Survived         int64\n",
      "Pclass           int64\n",
      "Name            object\n",
      "Sex             object\n",
      "Age            float64\n",
      "SibSp            int64\n",
      "Parch            int64\n",
      "Ticket          object\n",
      "Fare           float64\n",
      "Cabin           object\n",
      "Embarked        object\n",
      "dtype: object\n",
      "        PassengerId    Survived      Pclass                   Name   Sex  \\\n",
      "count    891.000000  891.000000  891.000000                    891   891   \n",
      "unique          NaN         NaN         NaN                    891     2   \n",
      "top             NaN         NaN         NaN  Dahl, Mr. Karl Edwart  male   \n",
      "freq            NaN         NaN         NaN                      1   577   \n",
      "mean     446.000000    0.383838    2.308642                    NaN   NaN   \n",
      "std      257.353842    0.486592    0.836071                    NaN   NaN   \n",
      "min        1.000000    0.000000    1.000000                    NaN   NaN   \n",
      "25%      223.500000    0.000000    2.000000                    NaN   NaN   \n",
      "50%      446.000000    0.000000    3.000000                    NaN   NaN   \n",
      "75%      668.500000    1.000000    3.000000                    NaN   NaN   \n",
      "max      891.000000    1.000000    3.000000                    NaN   NaN   \n",
      "\n",
      "               Age       SibSp       Parch  Ticket        Fare Cabin Embarked  \n",
      "count   714.000000  891.000000  891.000000     891  891.000000   204      889  \n",
      "unique         NaN         NaN         NaN     681         NaN   147        3  \n",
      "top            NaN         NaN         NaN  347082         NaN    G6        S  \n",
      "freq           NaN         NaN         NaN       7         NaN     4      644  \n",
      "mean     29.699118    0.523008    0.381594     NaN   32.204208   NaN      NaN  \n",
      "std      14.526497    1.102743    0.806057     NaN   49.693429   NaN      NaN  \n",
      "min       0.420000    0.000000    0.000000     NaN    0.000000   NaN      NaN  \n",
      "25%      20.125000    0.000000    0.000000     NaN    7.910400   NaN      NaN  \n",
      "50%      28.000000    0.000000    0.000000     NaN   14.454200   NaN      NaN  \n",
      "75%      38.000000    1.000000    0.000000     NaN   31.000000   NaN      NaN  \n",
      "max      80.000000    8.000000    6.000000     NaN  512.329200   NaN      NaN  \n"
     ]
    }
   ],
   "source": [
    "print(df.dtypes)\n",
    "print(df.describe(include='all'))\n"
   ]
  },
  {
   "cell_type": "markdown",
   "metadata": {
    "slideshow": {
     "slide_type": "slide"
    }
   },
   "source": [
    "## Question: selecting columns according to datatype\n",
    "\n",
    "Project (in the SQL sense)  the DataFrame on columns with a specified datatype.\n",
    "For example, project (as in the SQL `SELECT`)\n",
    "the Titanic `DataFrame` on the  numerical columns.\n",
    "\n",
    "Hint: method `select_dtypes`\n",
    "\n",
    "### Answer\n"
   ]
  },
  {
   "cell_type": "code",
   "execution_count": 61,
   "metadata": {
    "ExecuteTime": {
     "end_time": "2020-02-23T22:22:04.702574Z",
     "start_time": "2020-02-23T22:22:04.643289Z"
    }
   },
   "outputs": [
    {
     "name": "stdout",
     "output_type": "stream",
     "text": [
      "     PassengerId  Survived  Pclass   Age  SibSp  Parch     Fare\n",
      "0              1         0       3  22.0      1      0   7.2500\n",
      "1              2         1       1  38.0      1      0  71.2833\n",
      "2              3         1       3  26.0      0      0   7.9250\n",
      "3              4         1       1  35.0      1      0  53.1000\n",
      "4              5         0       3  35.0      0      0   8.0500\n",
      "..           ...       ...     ...   ...    ...    ...      ...\n",
      "886          887         0       2  27.0      0      0  13.0000\n",
      "887          888         1       1  19.0      0      0  30.0000\n",
      "888          889         0       3   NaN      1      2  23.4500\n",
      "889          890         1       1  26.0      0      0  30.0000\n",
      "890          891         0       3  32.0      0      0   7.7500\n",
      "\n",
      "[891 rows x 7 columns]\n"
     ]
    }
   ],
   "source": [
    "df = pd.read_csv('train.csv')\n",
    "resultat = df.select_dtypes(include=[np.number])\n",
    "print(resultat)"
   ]
  },
  {
   "cell_type": "markdown",
   "metadata": {
    "slideshow": {
     "slide_type": "slide"
    }
   },
   "source": [
    "\n",
    "## Question: computing number of distinct values in each column\n",
    "\n",
    "For each column with non-numerical datatype compute the number of unique values\n",
    "in the column.\n",
    "\n",
    "### Answer\n",
    "\n"
   ]
  },
  {
   "cell_type": "code",
   "execution_count": 315,
   "metadata": {
    "ExecuteTime": {
     "end_time": "2020-02-23T19:13:34.015972Z",
     "start_time": "2020-02-23T19:13:33.988085Z"
    },
    "autoscroll": "auto",
    "options": {
     "caption": false,
     "complete": true,
     "display_data": true,
     "display_stream": true,
     "dpi": 200,
     "echo": true,
     "evaluate": false,
     "f_env": null,
     "f_pos": "htpb",
     "f_size": [
      6,
      4
     ],
     "f_spines": true,
     "fig": true,
     "include": true,
     "name": null,
     "option_string": "evaluate=False",
     "results": "verbatim",
     "term": false,
     "wrap": "output"
    },
    "slideshow": {
     "slide_type": "subslide"
    }
   },
   "outputs": [
    {
     "data": {
      "text/plain": [
       "Name        891\n",
       "Sex           2\n",
       "Ticket      681\n",
       "Cabin       147\n",
       "Embarked      3\n",
       "dtype: int64"
      ]
     },
     "execution_count": 315,
     "metadata": {},
     "output_type": "execute_result"
    }
   ],
   "source": [
    "df.select_dtypes(exclude=[np.number]).nunique()"
   ]
  },
  {
   "cell_type": "markdown",
   "metadata": {
    "slideshow": {
     "slide_type": "slide"
    }
   },
   "source": [
    "\n",
    "## Question: spotting categorical columns\n",
    "\n",
    "What are the indices and column names of columns\n",
    "with less than `10` distinct vakues ?\n",
    "\n",
    "### Answer\n",
    "\n"
   ]
  },
  {
   "cell_type": "code",
   "execution_count": 66,
   "metadata": {
    "ExecuteTime": {
     "end_time": "2020-02-23T22:24:41.467728Z",
     "start_time": "2020-02-23T22:24:41.434080Z"
    },
    "autoscroll": "auto",
    "options": {
     "caption": false,
     "complete": true,
     "display_data": true,
     "display_stream": true,
     "dpi": 200,
     "echo": true,
     "evaluate": false,
     "f_env": null,
     "f_pos": "htpb",
     "f_size": [
      6,
      4
     ],
     "f_spines": true,
     "fig": true,
     "include": true,
     "name": null,
     "option_string": "evaluate=False",
     "results": "verbatim",
     "term": false,
     "wrap": "output"
    },
    "slideshow": {
     "slide_type": "subslide"
    }
   },
   "outputs": [
    {
     "data": {
      "text/plain": [
       "PassengerId    False\n",
       "Survived        True\n",
       "Pclass          True\n",
       "Name           False\n",
       "Sex             True\n",
       "Age            False\n",
       "SibSp           True\n",
       "Parch           True\n",
       "Ticket         False\n",
       "Fare           False\n",
       "Cabin          False\n",
       "Embarked        True\n",
       "dtype: bool"
      ]
     },
     "execution_count": 66,
     "metadata": {},
     "output_type": "execute_result"
    }
   ],
   "source": [
    "df.nunique(axis=0) < 10"
   ]
  },
  {
   "cell_type": "markdown",
   "metadata": {
    "slideshow": {
     "slide_type": "slide"
    }
   },
   "source": [
    "\n",
    "## Question: coercing column datatypes\n",
    "\n",
    "- `Name` should be of type `string`\n",
    "- `Sex` is a categorical variable with values `Female, Male, None`\n",
    "- `Embarked` is a categorical variable with values `Cherbourg, Southampton, ..., None`\n",
    "- `Ticket` should be a string\n",
    "- `Cabin` should be a string\n",
    "- `Survived` should be of type `bool`\n",
    "- `Pclass` is a categorical variable (ordered)\n",
    "- `Sibsp` could a categorical variable (ordered)\n",
    "- `Parch` could a categorical variable (ordered)\n",
    "\n",
    "Attempt to automatically infer better types fails.\n",
    "\n"
   ]
  },
  {
   "cell_type": "markdown",
   "metadata": {
    "slideshow": {
     "slide_type": "subslide"
    }
   },
   "source": [
    "\n",
    "### Answer\n",
    "\n"
   ]
  },
  {
   "cell_type": "code",
   "execution_count": 354,
   "metadata": {
    "ExecuteTime": {
     "end_time": "2020-02-23T20:06:02.129340Z",
     "start_time": "2020-02-23T20:06:02.109248Z"
    },
    "autoscroll": "auto",
    "options": {
     "caption": false,
     "complete": true,
     "display_data": true,
     "display_stream": true,
     "dpi": 200,
     "echo": true,
     "evaluate": false,
     "f_env": null,
     "f_pos": "htpb",
     "f_size": [
      6,
      4
     ],
     "f_spines": true,
     "fig": true,
     "include": true,
     "name": null,
     "option_string": "evaluate=False",
     "results": "verbatim",
     "term": false,
     "wrap": "output"
    },
    "slideshow": {
     "slide_type": "subslide"
    }
   },
   "outputs": [
    {
     "data": {
      "text/plain": [
       "PassengerId       int64\n",
       "Survived           bool\n",
       "Pclass         category\n",
       "Name             object\n",
       "Sex            category\n",
       "Age             float64\n",
       "SibSp          category\n",
       "Parch          category\n",
       "Ticket           object\n",
       "Fare            float64\n",
       "Cabin            object\n",
       "Embarked       category\n",
       "dtype: object"
      ]
     },
     "execution_count": 354,
     "metadata": {},
     "output_type": "execute_result"
    }
   ],
   "source": [
    "sex_dtype = pd.api.types.CategoricalDtype(categories=[\"female\", \"male\",''])\n",
    "embarked_dtype = pd.api.types.CategoricalDtype(categories=['S', 'C', 'Q',''])\n",
    "cat_Sibsp=pd.api.types.CategoricalDtype(ordered=True)\n",
    "cat_Pclass=pd.api.types.CategoricalDtype(ordered=True)\n",
    "cat_Parch=pd.api.types.CategoricalDtype(ordered=True)\n",
    "\n",
    "df=df.astype({\"Name\":str,\"Ticket\":str,\"Cabin\":str,\"Survived\":bool,\"Pclass\":cat_Pclass,\"SibSp\":cat_Sibsp,\"Parch\":cat_Parch,\"Sex\":sex_dtype,\"Embarked\":embarked_dtype})\n",
    "\n",
    "\n",
    "\n",
    "\n",
    "\n",
    "df.dtypes\n"
   ]
  },
  {
   "cell_type": "markdown",
   "metadata": {
    "slideshow": {
     "slide_type": "slide"
    }
   },
   "source": [
    "\n",
    "## Question: coercing column datatypes\n",
    "\n",
    "All suspicious columns could be converted to `category`.\n",
    "Some of the categories have to be ordered.\n",
    "\n",
    "\n",
    "### Answer\n"
   ]
  },
  {
   "cell_type": "code",
   "execution_count": null,
   "metadata": {
    "autoscroll": "auto",
    "options": {
     "caption": false,
     "complete": true,
     "display_data": true,
     "display_stream": true,
     "dpi": 200,
     "echo": true,
     "evaluate": false,
     "f_env": null,
     "f_pos": "htpb",
     "f_size": [
      6,
      4
     ],
     "f_spines": true,
     "fig": true,
     "include": true,
     "name": null,
     "option_string": "evaluate=False",
     "results": "verbatim",
     "term": false,
     "wrap": "output"
    },
    "slideshow": {
     "slide_type": "subslide"
    }
   },
   "outputs": [],
   "source": [
    "df = df.astype({\"Cabin\":'category',\"Ticket\":'category'})\n",
    "df[\"Name\"]= df[\"Name\"].astype(str)\n",
    "\n",
    "df.dtypes\n",
    "\n"
   ]
  },
  {
   "cell_type": "markdown",
   "metadata": {
    "slideshow": {
     "slide_type": "slide"
    }
   },
   "source": [
    "\n",
    "## Question: categorizing columns using functions\n",
    "\n",
    "Define a function that takes as arguments a `Dataframe` and a list of\n",
    "of column names and attempts to cast the corresponding columns to 'category'.\n",
    "\n",
    "### Answer\n",
    "\n",
    "\n"
   ]
  },
  {
   "cell_type": "code",
   "execution_count": 355,
   "metadata": {
    "ExecuteTime": {
     "end_time": "2020-02-23T20:07:05.117832Z",
     "start_time": "2020-02-23T20:07:05.096030Z"
    },
    "autoscroll": "auto",
    "options": {
     "caption": false,
     "complete": true,
     "display_data": true,
     "display_stream": true,
     "dpi": 200,
     "echo": true,
     "evaluate": false,
     "f_env": null,
     "f_pos": "htpb",
     "f_size": [
      6,
      4
     ],
     "f_spines": true,
     "fig": true,
     "include": true,
     "name": null,
     "option_string": "evaluate=False",
     "results": "verbatim",
     "term": false,
     "wrap": "output"
    },
    "slideshow": {
     "slide_type": "subslide"
    }
   },
   "outputs": [
    {
     "data": {
      "text/plain": [
       "PassengerId       int64\n",
       "Survived           bool\n",
       "Pclass         category\n",
       "Name             object\n",
       "Sex            category\n",
       "Age             float64\n",
       "SibSp          category\n",
       "Parch          category\n",
       "Ticket           object\n",
       "Fare            float64\n",
       "Cabin            object\n",
       "Embarked       category\n",
       "dtype: object"
      ]
     },
     "execution_count": 355,
     "metadata": {},
     "output_type": "execute_result"
    }
   ],
   "source": [
    "def categorizing(df,cols):\n",
    "    for c in cols:\n",
    "        cat=pd.api.types.CategoricalDtype()\n",
    "        df=df.astype({c:cat})\n",
    "    return df\n",
    " \n",
    "df.dtypes\n"
   ]
  },
  {
   "cell_type": "markdown",
   "metadata": {
    "slideshow": {
     "slide_type": "slide"
    }
   },
   "source": [
    "\n",
    "## Question: enforcing datatypes at loading time\n",
    "\n",
    "\n",
    "Function `read_csv` from `Pandas` has many optional keyword arguments that\n",
    "can be used to tweak the resulting `Dataframe` during (or just after load).\n",
    "\n",
    "Improve your import of the data: for instance,\n",
    "categorical columns (a column with a small number of modalities)\n",
    "should have the `category` type.\n",
    "\n",
    "### Answer\n"
   ]
  },
  {
   "cell_type": "code",
   "execution_count": 67,
   "metadata": {
    "ExecuteTime": {
     "end_time": "2020-02-23T22:25:34.471851Z",
     "start_time": "2020-02-23T22:25:34.394754Z"
    }
   },
   "outputs": [
    {
     "name": "stdout",
     "output_type": "stream",
     "text": [
      "<class 'pandas.core.frame.DataFrame'>\n",
      "RangeIndex: 891 entries, 0 to 890\n",
      "Data columns (total 12 columns):\n",
      "PassengerId    891 non-null int64\n",
      "Survived       891 non-null category\n",
      "Pclass         891 non-null category\n",
      "Name           891 non-null object\n",
      "Sex            891 non-null category\n",
      "Age            714 non-null float64\n",
      "SibSp          891 non-null int64\n",
      "Parch          891 non-null int64\n",
      "Ticket         891 non-null object\n",
      "Fare           891 non-null float64\n",
      "Cabin          204 non-null object\n",
      "Embarked       889 non-null category\n",
      "dtypes: category(4), float64(2), int64(3), object(3)\n",
      "memory usage: 59.7+ KB\n"
     ]
    }
   ],
   "source": [
    "df = pd.read_csv('train.csv')\n",
    "\n",
    "for col in df.columns:\n",
    "    if df[col].nunique() < 5:\n",
    "        df[col] = df[col].astype('category')\n",
    "\n",
    "df.info('memory-usage')"
   ]
  },
  {
   "cell_type": "markdown",
   "metadata": {
    "slideshow": {
     "slide_type": "slide"
    }
   },
   "source": [
    "## Question: Count the number of missing values in each column\n",
    "\n",
    "Display the distribution of `Pclass`  and `Cabin == NaN` in\n",
    "the subpopulation defined by the missingness of `Age`.\n",
    "\n",
    "Hint: you may use function `mosaic` from package `statsmodels`. See \n",
    "`from statsmodels.graphics.mosaicplot import mosaic`\n",
    "\n",
    "### Answer"
   ]
  },
  {
   "cell_type": "code",
   "execution_count": 319,
   "metadata": {
    "ExecuteTime": {
     "end_time": "2020-02-23T19:13:47.970807Z",
     "start_time": "2020-02-23T19:13:47.491149Z"
    },
    "autoscroll": "auto",
    "options": {
     "caption": false,
     "complete": true,
     "display_data": true,
     "display_stream": true,
     "dpi": 200,
     "echo": true,
     "evaluate": false,
     "f_env": null,
     "f_pos": "htpb",
     "f_size": [
      6,
      4
     ],
     "f_spines": true,
     "fig": true,
     "include": true,
     "name": null,
     "option_string": "evaluate=False",
     "results": "verbatim",
     "term": false,
     "wrap": "output"
    },
    "slideshow": {
     "slide_type": "subslide"
    }
   },
   "outputs": [
    {
     "data": {
      "image/png": "[encoded data removed]",
      "text/plain": [
       "<Figure size 432x288 with 3 Axes>"
      ]
     },
     "metadata": {
      "needs_background": "light"
     },
     "output_type": "display_data"
    }
   ],
   "source": [
    "mosaic(df[(df.Age.isna()==True)][['Pclass','Cabin']],['Pclass','Cabin'])\n",
    "\n",
    "plt.show()"
   ]
  },
  {
   "cell_type": "markdown",
   "metadata": {
    "slideshow": {
     "slide_type": "slide"
    }
   },
   "source": [
    "\n",
    "\n",
    "## Question: number of missing values per row\n",
    "\n",
    "It is also possible to determine the number of NA values per row.\n",
    "List the rows with at least two missing values. Can you complete\n",
    "some dots?\n",
    "\n",
    "### Answer"
   ]
  },
  {
   "cell_type": "code",
   "execution_count": 68,
   "metadata": {
    "ExecuteTime": {
     "end_time": "2020-02-23T22:27:44.292758Z",
     "start_time": "2020-02-23T22:27:44.171578Z"
    },
    "autoscroll": "auto",
    "options": {
     "caption": false,
     "complete": true,
     "display_data": true,
     "display_stream": true,
     "dpi": 200,
     "echo": true,
     "evaluate": false,
     "f_env": null,
     "f_pos": "htpb",
     "f_size": [
      6,
      4
     ],
     "f_spines": true,
     "fig": true,
     "include": true,
     "name": null,
     "option_string": "evaluate=False",
     "results": "verbatim",
     "term": false,
     "wrap": "output"
    },
    "slideshow": {
     "slide_type": "subslide"
    }
   },
   "outputs": [
    {
     "data": {
      "text/html": [
       "<div>\n",
       "<style scoped>\n",
       "    .dataframe tbody tr th:only-of-type {\n",
       "        vertical-align: middle;\n",
       "    }\n",
       "\n",
       "    .dataframe tbody tr th {\n",
       "        vertical-align: top;\n",
       "    }\n",
       "\n",
       "    .dataframe thead th {\n",
       "        text-align: right;\n",
       "    }\n",
       "</style>\n",
       "<table border=\"1\" class=\"dataframe\">\n",
       "  <thead>\n",
       "    <tr style=\"text-align: right;\">\n",
       "      <th></th>\n",
       "      <th>PassengerId</th>\n",
       "      <th>Survived</th>\n",
       "      <th>Pclass</th>\n",
       "      <th>Name</th>\n",
       "      <th>Sex</th>\n",
       "      <th>Age</th>\n",
       "      <th>SibSp</th>\n",
       "      <th>Parch</th>\n",
       "      <th>Ticket</th>\n",
       "      <th>Fare</th>\n",
       "      <th>Cabin</th>\n",
       "      <th>Embarked</th>\n",
       "    </tr>\n",
       "  </thead>\n",
       "  <tbody>\n",
       "    <tr>\n",
       "      <td>5</td>\n",
       "      <td>6</td>\n",
       "      <td>0</td>\n",
       "      <td>3</td>\n",
       "      <td>Moran, Mr. James</td>\n",
       "      <td>male</td>\n",
       "      <td>NaN</td>\n",
       "      <td>0</td>\n",
       "      <td>0</td>\n",
       "      <td>330877</td>\n",
       "      <td>8.4583</td>\n",
       "      <td>NaN</td>\n",
       "      <td>Q</td>\n",
       "    </tr>\n",
       "    <tr>\n",
       "      <td>17</td>\n",
       "      <td>18</td>\n",
       "      <td>1</td>\n",
       "      <td>2</td>\n",
       "      <td>Williams, Mr. Charles Eugene</td>\n",
       "      <td>male</td>\n",
       "      <td>NaN</td>\n",
       "      <td>0</td>\n",
       "      <td>0</td>\n",
       "      <td>244373</td>\n",
       "      <td>13.0000</td>\n",
       "      <td>NaN</td>\n",
       "      <td>S</td>\n",
       "    </tr>\n",
       "    <tr>\n",
       "      <td>19</td>\n",
       "      <td>20</td>\n",
       "      <td>1</td>\n",
       "      <td>3</td>\n",
       "      <td>Masselmani, Mrs. Fatima</td>\n",
       "      <td>female</td>\n",
       "      <td>NaN</td>\n",
       "      <td>0</td>\n",
       "      <td>0</td>\n",
       "      <td>2649</td>\n",
       "      <td>7.2250</td>\n",
       "      <td>NaN</td>\n",
       "      <td>C</td>\n",
       "    </tr>\n",
       "    <tr>\n",
       "      <td>26</td>\n",
       "      <td>27</td>\n",
       "      <td>0</td>\n",
       "      <td>3</td>\n",
       "      <td>Emir, Mr. Farred Chehab</td>\n",
       "      <td>male</td>\n",
       "      <td>NaN</td>\n",
       "      <td>0</td>\n",
       "      <td>0</td>\n",
       "      <td>2631</td>\n",
       "      <td>7.2250</td>\n",
       "      <td>NaN</td>\n",
       "      <td>C</td>\n",
       "    </tr>\n",
       "    <tr>\n",
       "      <td>28</td>\n",
       "      <td>29</td>\n",
       "      <td>1</td>\n",
       "      <td>3</td>\n",
       "      <td>O'Dwyer, Miss. Ellen \"Nellie\"</td>\n",
       "      <td>female</td>\n",
       "      <td>NaN</td>\n",
       "      <td>0</td>\n",
       "      <td>0</td>\n",
       "      <td>330959</td>\n",
       "      <td>7.8792</td>\n",
       "      <td>NaN</td>\n",
       "      <td>Q</td>\n",
       "    </tr>\n",
       "    <tr>\n",
       "      <td>...</td>\n",
       "      <td>...</td>\n",
       "      <td>...</td>\n",
       "      <td>...</td>\n",
       "      <td>...</td>\n",
       "      <td>...</td>\n",
       "      <td>...</td>\n",
       "      <td>...</td>\n",
       "      <td>...</td>\n",
       "      <td>...</td>\n",
       "      <td>...</td>\n",
       "      <td>...</td>\n",
       "      <td>...</td>\n",
       "    </tr>\n",
       "    <tr>\n",
       "      <td>859</td>\n",
       "      <td>860</td>\n",
       "      <td>0</td>\n",
       "      <td>3</td>\n",
       "      <td>Razi, Mr. Raihed</td>\n",
       "      <td>male</td>\n",
       "      <td>NaN</td>\n",
       "      <td>0</td>\n",
       "      <td>0</td>\n",
       "      <td>2629</td>\n",
       "      <td>7.2292</td>\n",
       "      <td>NaN</td>\n",
       "      <td>C</td>\n",
       "    </tr>\n",
       "    <tr>\n",
       "      <td>863</td>\n",
       "      <td>864</td>\n",
       "      <td>0</td>\n",
       "      <td>3</td>\n",
       "      <td>Sage, Miss. Dorothy Edith \"Dolly\"</td>\n",
       "      <td>female</td>\n",
       "      <td>NaN</td>\n",
       "      <td>8</td>\n",
       "      <td>2</td>\n",
       "      <td>CA. 2343</td>\n",
       "      <td>69.5500</td>\n",
       "      <td>NaN</td>\n",
       "      <td>S</td>\n",
       "    </tr>\n",
       "    <tr>\n",
       "      <td>868</td>\n",
       "      <td>869</td>\n",
       "      <td>0</td>\n",
       "      <td>3</td>\n",
       "      <td>van Melkebeke, Mr. Philemon</td>\n",
       "      <td>male</td>\n",
       "      <td>NaN</td>\n",
       "      <td>0</td>\n",
       "      <td>0</td>\n",
       "      <td>345777</td>\n",
       "      <td>9.5000</td>\n",
       "      <td>NaN</td>\n",
       "      <td>S</td>\n",
       "    </tr>\n",
       "    <tr>\n",
       "      <td>878</td>\n",
       "      <td>879</td>\n",
       "      <td>0</td>\n",
       "      <td>3</td>\n",
       "      <td>Laleff, Mr. Kristo</td>\n",
       "      <td>male</td>\n",
       "      <td>NaN</td>\n",
       "      <td>0</td>\n",
       "      <td>0</td>\n",
       "      <td>349217</td>\n",
       "      <td>7.8958</td>\n",
       "      <td>NaN</td>\n",
       "      <td>S</td>\n",
       "    </tr>\n",
       "    <tr>\n",
       "      <td>888</td>\n",
       "      <td>889</td>\n",
       "      <td>0</td>\n",
       "      <td>3</td>\n",
       "      <td>Johnston, Miss. Catherine Helen \"Carrie\"</td>\n",
       "      <td>female</td>\n",
       "      <td>NaN</td>\n",
       "      <td>1</td>\n",
       "      <td>2</td>\n",
       "      <td>W./C. 6607</td>\n",
       "      <td>23.4500</td>\n",
       "      <td>NaN</td>\n",
       "      <td>S</td>\n",
       "    </tr>\n",
       "  </tbody>\n",
       "</table>\n",
       "<p>158 rows × 12 columns</p>\n",
       "</div>"
      ],
      "text/plain": [
       "     PassengerId Survived Pclass                                      Name  \\\n",
       "5              6        0      3                          Moran, Mr. James   \n",
       "17            18        1      2              Williams, Mr. Charles Eugene   \n",
       "19            20        1      3                   Masselmani, Mrs. Fatima   \n",
       "26            27        0      3                   Emir, Mr. Farred Chehab   \n",
       "28            29        1      3             O'Dwyer, Miss. Ellen \"Nellie\"   \n",
       "..           ...      ...    ...                                       ...   \n",
       "859          860        0      3                          Razi, Mr. Raihed   \n",
       "863          864        0      3         Sage, Miss. Dorothy Edith \"Dolly\"   \n",
       "868          869        0      3               van Melkebeke, Mr. Philemon   \n",
       "878          879        0      3                        Laleff, Mr. Kristo   \n",
       "888          889        0      3  Johnston, Miss. Catherine Helen \"Carrie\"   \n",
       "\n",
       "        Sex  Age  SibSp  Parch      Ticket     Fare Cabin Embarked  \n",
       "5      male  NaN      0      0      330877   8.4583   NaN        Q  \n",
       "17     male  NaN      0      0      244373  13.0000   NaN        S  \n",
       "19   female  NaN      0      0        2649   7.2250   NaN        C  \n",
       "26     male  NaN      0      0        2631   7.2250   NaN        C  \n",
       "28   female  NaN      0      0      330959   7.8792   NaN        Q  \n",
       "..      ...  ...    ...    ...         ...      ...   ...      ...  \n",
       "859    male  NaN      0      0        2629   7.2292   NaN        C  \n",
       "863  female  NaN      8      2    CA. 2343  69.5500   NaN        S  \n",
       "868    male  NaN      0      0      345777   9.5000   NaN        S  \n",
       "878    male  NaN      0      0      349217   7.8958   NaN        S  \n",
       "888  female  NaN      1      2  W./C. 6607  23.4500   NaN        S  \n",
       "\n",
       "[158 rows x 12 columns]"
      ]
     },
     "execution_count": 68,
     "metadata": {},
     "output_type": "execute_result"
    }
   ],
   "source": [
    "df[df.isnull().sum(axis=1)>1]"
   ]
  },
  {
   "cell_type": "markdown",
   "metadata": {
    "slideshow": {
     "slide_type": "slide"
    }
   },
   "source": [
    "\n",
    "\n",
    "## Question: describe, showing quintiles\n",
    "\n",
    "For each numerical column, show the *quintiles* (from $20\\%$ up to $80\\%$).\n",
    "\n",
    "### Answer\n",
    "\n"
   ]
  },
  {
   "cell_type": "code",
   "execution_count": 320,
   "metadata": {
    "ExecuteTime": {
     "end_time": "2020-02-23T19:13:52.057886Z",
     "start_time": "2020-02-23T19:13:52.046138Z"
    },
    "autoscroll": "auto",
    "options": {
     "caption": false,
     "complete": true,
     "display_data": true,
     "display_stream": true,
     "dpi": 200,
     "echo": true,
     "evaluate": false,
     "f_env": null,
     "f_pos": "htpb",
     "f_size": [
      6,
      4
     ],
     "f_spines": true,
     "fig": true,
     "include": true,
     "name": null,
     "option_string": "evaluate=False",
     "results": "verbatim",
     "term": false,
     "wrap": "output"
    },
    "slideshow": {
     "slide_type": "subslide"
    }
   },
   "outputs": [
    {
     "data": {
      "text/html": [
       "<div>\n",
       "<style scoped>\n",
       "    .dataframe tbody tr th:only-of-type {\n",
       "        vertical-align: middle;\n",
       "    }\n",
       "\n",
       "    .dataframe tbody tr th {\n",
       "        vertical-align: top;\n",
       "    }\n",
       "\n",
       "    .dataframe thead th {\n",
       "        text-align: right;\n",
       "    }\n",
       "</style>\n",
       "<table border=\"1\" class=\"dataframe\">\n",
       "  <thead>\n",
       "    <tr style=\"text-align: right;\">\n",
       "      <th></th>\n",
       "      <th>PassengerId</th>\n",
       "      <th>Survived</th>\n",
       "      <th>Age</th>\n",
       "      <th>Fare</th>\n",
       "    </tr>\n",
       "  </thead>\n",
       "  <tbody>\n",
       "    <tr>\n",
       "      <td>0.2</td>\n",
       "      <td>179.0</td>\n",
       "      <td>0.0</td>\n",
       "      <td>19.0</td>\n",
       "      <td>7.8542</td>\n",
       "    </tr>\n",
       "    <tr>\n",
       "      <td>0.8</td>\n",
       "      <td>713.0</td>\n",
       "      <td>1.0</td>\n",
       "      <td>41.0</td>\n",
       "      <td>39.6875</td>\n",
       "    </tr>\n",
       "  </tbody>\n",
       "</table>\n",
       "</div>"
      ],
      "text/plain": [
       "     PassengerId  Survived   Age     Fare\n",
       "0.2        179.0       0.0  19.0   7.8542\n",
       "0.8        713.0       1.0  41.0  39.6875"
      ]
     },
     "execution_count": 320,
     "metadata": {},
     "output_type": "execute_result"
    }
   ],
   "source": [
    "df.quantile([0.2,0.8],numeric_only=True)"
   ]
  },
  {
   "cell_type": "markdown",
   "metadata": {
    "slideshow": {
     "slide_type": "slide"
    }
   },
   "source": [
    "\n",
    "\n",
    "## Question: binning the `Age` column\n",
    "\n",
    "Create a new categorical column named `Status`.\n",
    "\n",
    "The value should be should depend on the `Age`\n",
    "column with bins  `[0,17], (17, 40], (40, 60], (60, 100]`\n",
    "(`np.nan` for passengers whose age is unknown).\n",
    "\n",
    "### Answer\n",
    "\n",
    "\n"
   ]
  },
  {
   "cell_type": "code",
   "execution_count": 69,
   "metadata": {
    "ExecuteTime": {
     "end_time": "2020-02-23T22:28:01.643202Z",
     "start_time": "2020-02-23T22:28:01.561980Z"
    },
    "autoscroll": "auto",
    "options": {
     "caption": false,
     "complete": true,
     "display_data": true,
     "display_stream": true,
     "dpi": 200,
     "echo": true,
     "evaluate": false,
     "f_env": null,
     "f_pos": "htpb",
     "f_size": [
      6,
      4
     ],
     "f_spines": true,
     "fig": true,
     "include": true,
     "name": null,
     "option_string": "evaluate=False",
     "results": "verbatim",
     "term": false,
     "wrap": "output"
    },
    "slideshow": {
     "slide_type": "subslide"
    }
   },
   "outputs": [
    {
     "data": {
      "text/html": [
       "<div>\n",
       "<style scoped>\n",
       "    .dataframe tbody tr th:only-of-type {\n",
       "        vertical-align: middle;\n",
       "    }\n",
       "\n",
       "    .dataframe tbody tr th {\n",
       "        vertical-align: top;\n",
       "    }\n",
       "\n",
       "    .dataframe thead th {\n",
       "        text-align: right;\n",
       "    }\n",
       "</style>\n",
       "<table border=\"1\" class=\"dataframe\">\n",
       "  <thead>\n",
       "    <tr style=\"text-align: right;\">\n",
       "      <th></th>\n",
       "      <th>PassengerId</th>\n",
       "      <th>Survived</th>\n",
       "      <th>Pclass</th>\n",
       "      <th>Name</th>\n",
       "      <th>Sex</th>\n",
       "      <th>Age</th>\n",
       "      <th>SibSp</th>\n",
       "      <th>Parch</th>\n",
       "      <th>Ticket</th>\n",
       "      <th>Fare</th>\n",
       "      <th>Cabin</th>\n",
       "      <th>Embarked</th>\n",
       "      <th>Tranche</th>\n",
       "    </tr>\n",
       "  </thead>\n",
       "  <tbody>\n",
       "    <tr>\n",
       "      <td>0</td>\n",
       "      <td>1</td>\n",
       "      <td>0</td>\n",
       "      <td>3</td>\n",
       "      <td>Braund, Mr. Owen Harris</td>\n",
       "      <td>male</td>\n",
       "      <td>22.0</td>\n",
       "      <td>1</td>\n",
       "      <td>0</td>\n",
       "      <td>A/5 21171</td>\n",
       "      <td>7.2500</td>\n",
       "      <td>NaN</td>\n",
       "      <td>S</td>\n",
       "      <td>18-40</td>\n",
       "    </tr>\n",
       "    <tr>\n",
       "      <td>1</td>\n",
       "      <td>2</td>\n",
       "      <td>1</td>\n",
       "      <td>1</td>\n",
       "      <td>Cumings, Mrs. John Bradley (Florence Briggs Th...</td>\n",
       "      <td>female</td>\n",
       "      <td>38.0</td>\n",
       "      <td>1</td>\n",
       "      <td>0</td>\n",
       "      <td>PC 17599</td>\n",
       "      <td>71.2833</td>\n",
       "      <td>C85</td>\n",
       "      <td>C</td>\n",
       "      <td>18-40</td>\n",
       "    </tr>\n",
       "    <tr>\n",
       "      <td>2</td>\n",
       "      <td>3</td>\n",
       "      <td>1</td>\n",
       "      <td>3</td>\n",
       "      <td>Heikkinen, Miss. Laina</td>\n",
       "      <td>female</td>\n",
       "      <td>26.0</td>\n",
       "      <td>0</td>\n",
       "      <td>0</td>\n",
       "      <td>STON/O2. 3101282</td>\n",
       "      <td>7.9250</td>\n",
       "      <td>NaN</td>\n",
       "      <td>S</td>\n",
       "      <td>18-40</td>\n",
       "    </tr>\n",
       "    <tr>\n",
       "      <td>3</td>\n",
       "      <td>4</td>\n",
       "      <td>1</td>\n",
       "      <td>1</td>\n",
       "      <td>Futrelle, Mrs. Jacques Heath (Lily May Peel)</td>\n",
       "      <td>female</td>\n",
       "      <td>35.0</td>\n",
       "      <td>1</td>\n",
       "      <td>0</td>\n",
       "      <td>113803</td>\n",
       "      <td>53.1000</td>\n",
       "      <td>C123</td>\n",
       "      <td>S</td>\n",
       "      <td>18-40</td>\n",
       "    </tr>\n",
       "    <tr>\n",
       "      <td>4</td>\n",
       "      <td>5</td>\n",
       "      <td>0</td>\n",
       "      <td>3</td>\n",
       "      <td>Allen, Mr. William Henry</td>\n",
       "      <td>male</td>\n",
       "      <td>35.0</td>\n",
       "      <td>0</td>\n",
       "      <td>0</td>\n",
       "      <td>373450</td>\n",
       "      <td>8.0500</td>\n",
       "      <td>NaN</td>\n",
       "      <td>S</td>\n",
       "      <td>18-40</td>\n",
       "    </tr>\n",
       "  </tbody>\n",
       "</table>\n",
       "</div>"
      ],
      "text/plain": [
       "   PassengerId Survived Pclass  \\\n",
       "0            1        0      3   \n",
       "1            2        1      1   \n",
       "2            3        1      3   \n",
       "3            4        1      1   \n",
       "4            5        0      3   \n",
       "\n",
       "                                                Name     Sex   Age  SibSp  \\\n",
       "0                            Braund, Mr. Owen Harris    male  22.0      1   \n",
       "1  Cumings, Mrs. John Bradley (Florence Briggs Th...  female  38.0      1   \n",
       "2                             Heikkinen, Miss. Laina  female  26.0      0   \n",
       "3       Futrelle, Mrs. Jacques Heath (Lily May Peel)  female  35.0      1   \n",
       "4                           Allen, Mr. William Henry    male  35.0      0   \n",
       "\n",
       "   Parch            Ticket     Fare Cabin Embarked Tranche  \n",
       "0      0         A/5 21171   7.2500   NaN        S   18-40  \n",
       "1      0          PC 17599  71.2833   C85        C   18-40  \n",
       "2      0  STON/O2. 3101282   7.9250   NaN        S   18-40  \n",
       "3      0            113803  53.1000  C123        S   18-40  \n",
       "4      0            373450   8.0500   NaN        S   18-40  "
      ]
     },
     "execution_count": 69,
     "metadata": {},
     "output_type": "execute_result"
    }
   ],
   "source": [
    "def categorie_by_age(age):\n",
    "    if (age == np.nan):\n",
    "        return np.nan\n",
    "    elif (age < 18):\n",
    "        return \"moins 18\"\n",
    "    elif (age < 41):\n",
    "        return \"18-40\"\n",
    "    elif (age < 61):\n",
    "        return \"41-60\"\n",
    "    else:\n",
    "        return \"plus 60\"\n",
    "    \n",
    "df['Tranche'] = df['Age'].map(categorie_by_age)\n",
    "df.head()"
   ]
  },
  {
   "cell_type": "markdown",
   "metadata": {
    "slideshow": {
     "slide_type": "subslide"
    }
   },
   "source": [
    "\n",
    "## Question: \n",
    "\n",
    "Draw a `countplot` for each categorical column, arrange the `countplot`s in a grid \n",
    "with two rows and three columns.\n",
    "\n",
    "### Answer"
   ]
  },
  {
   "cell_type": "code",
   "execution_count": 324,
   "metadata": {
    "ExecuteTime": {
     "end_time": "2020-02-23T19:14:21.953435Z",
     "start_time": "2020-02-23T19:14:13.117181Z"
    },
    "autoscroll": "auto",
    "options": {
     "caption": false,
     "complete": true,
     "display_data": true,
     "display_stream": true,
     "dpi": 200,
     "echo": true,
     "evaluate": false,
     "f_env": null,
     "f_pos": "htpb",
     "f_size": [
      6,
      4
     ],
     "f_spines": true,
     "fig": true,
     "include": true,
     "name": null,
     "option_string": "evaluate=False",
     "results": "verbatim",
     "term": false,
     "wrap": "output"
    },
    "scrolled": true,
    "slideshow": {
     "slide_type": "subslide"
    }
   },
   "outputs": [
    {
     "data": {
      "image/png": "[encoded data removed]",
      "text/plain": [
       "<Figure size 720x720 with 6 Axes>"
      ]
     },
     "metadata": {
      "needs_background": "light"
     },
     "output_type": "display_data"
    }
   ],
   "source": [
    "\n",
    "    \n",
    "fig, axes = plt.subplots(nrows=2, ncols=3, figsize=(10, 10))\n",
    "columns = df.select_dtypes(include='category')\n",
    "\n",
    "for i, colname in enumerate(columns):\n",
    "    sns.countplot(colname, data=df, ax=fig.axes[i])\n",
    "plt.tight_layout()\n",
    "    \n",
    "    \n",
    "    "
   ]
  },
  {
   "cell_type": "markdown",
   "metadata": {
    "slideshow": {
     "slide_type": "slide"
    }
   },
   "source": [
    "\n",
    "## Question: plotting the distribution of numerical columns\n",
    "\n",
    "For each column for which it makes sense, display its distribution using `seaborn`:\n",
    "choose the most relevant type of plot for each column and display it.\n",
    "\n",
    "**Remark.** Note that the `Age` column contains missing values:\n",
    "show the number of missing / non-missing values in this column, and show the distribution of non-missing ages in a different plot.\n",
    "Also, note that there is a `notna()` method for dataframes...\n",
    "\n",
    "### Answer\n"
   ]
  },
  {
   "cell_type": "code",
   "execution_count": 70,
   "metadata": {
    "ExecuteTime": {
     "end_time": "2020-02-23T22:28:40.069862Z",
     "start_time": "2020-02-23T22:28:39.671499Z"
    }
   },
   "outputs": [
    {
     "data": {
      "text/plain": [
       "<matplotlib.axes._subplots.AxesSubplot at 0x7f7be49a84d0>"
      ]
     },
     "execution_count": 70,
     "metadata": {},
     "output_type": "execute_result"
    },
    {
     "data": {
      "image/png": "[encoded data removed]",
      "text/plain": [
       "<Figure size 432x288 with 1 Axes>"
      ]
     },
     "metadata": {
      "needs_background": "light"
     },
     "output_type": "display_data"
    }
   ],
   "source": [
    "sns.distplot(df.Pclass)"
   ]
  },
  {
   "cell_type": "code",
   "execution_count": 71,
   "metadata": {
    "ExecuteTime": {
     "end_time": "2020-02-23T22:28:43.143789Z",
     "start_time": "2020-02-23T22:28:42.716220Z"
    },
    "autoscroll": "auto",
    "options": {
     "caption": false,
     "complete": true,
     "display_data": true,
     "display_stream": true,
     "dpi": 200,
     "echo": true,
     "evaluate": false,
     "f_env": null,
     "f_pos": "htpb",
     "f_size": [
      6,
      4
     ],
     "f_spines": true,
     "fig": true,
     "include": true,
     "name": null,
     "option_string": "evaluate=False",
     "results": "verbatim",
     "term": false,
     "wrap": "output"
    },
    "slideshow": {
     "slide_type": "subslide"
    }
   },
   "outputs": [
    {
     "data": {
      "text/plain": [
       "<matplotlib.axes._subplots.AxesSubplot at 0x7f7beeaed850>"
      ]
     },
     "execution_count": 71,
     "metadata": {},
     "output_type": "execute_result"
    },
    {
     "data": {
      "image/png": "[encoded data removed]",
      "text/plain": [
       "<Figure size 432x288 with 1 Axes>"
      ]
     },
     "metadata": {
      "needs_background": "light"
     },
     "output_type": "display_data"
    }
   ],
   "source": [
    "sns.distplot(df[df.Age.notna()].Age)\n"
   ]
  },
  {
   "cell_type": "markdown",
   "metadata": {
    "slideshow": {
     "slide_type": "slide"
    }
   },
   "source": [
    "\n",
    "\n",
    "## Question: plot numerical columuns according to categorical columns\n",
    "\n",
    "Do the same as in Question 4,\n",
    "but **differentiate** the plots\n",
    "for passengers the passengers that survived and the ones who did not.\n",
    "You can use the `hue` option,\n",
    "you can use a `FacetGrid`.\n",
    "Look at the `seaborn` documentation and choose the best option.\n",
    "\n",
    "### Answer\n",
    "\n",
    "#### Facets\n",
    "\n"
   ]
  },
  {
   "cell_type": "code",
   "execution_count": null,
   "metadata": {
    "ExecuteTime": {
     "end_time": "2020-02-23T17:32:43.163954Z",
     "start_time": "2020-02-23T17:32:43.117948Z"
    },
    "autoscroll": "auto",
    "options": {
     "caption": false,
     "complete": true,
     "display_data": true,
     "display_stream": true,
     "dpi": 200,
     "echo": true,
     "evaluate": false,
     "f_env": null,
     "f_pos": "htpb",
     "f_size": [
      6,
      4
     ],
     "f_spines": true,
     "fig": true,
     "include": true,
     "name": null,
     "option_string": "evaluate=False",
     "results": "verbatim",
     "term": false,
     "wrap": "output"
    },
    "slideshow": {
     "slide_type": "subslide"
    }
   },
   "outputs": [],
   "source": []
  },
  {
   "cell_type": "markdown",
   "metadata": {
    "slideshow": {
     "slide_type": "subslide"
    }
   },
   "source": [
    "#### Boxplot"
   ]
  },
  {
   "cell_type": "code",
   "execution_count": null,
   "metadata": {
    "ExecuteTime": {
     "end_time": "2020-02-23T17:36:40.001092Z",
     "start_time": "2020-02-23T17:36:39.964181Z"
    }
   },
   "outputs": [],
   "source": []
  },
  {
   "cell_type": "markdown",
   "metadata": {
    "slideshow": {
     "slide_type": "subslide"
    }
   },
   "source": [
    "#### Catplot"
   ]
  },
  {
   "cell_type": "code",
   "execution_count": null,
   "metadata": {
    "ExecuteTime": {
     "end_time": "2020-02-23T17:26:47.850508Z",
     "start_time": "2020-02-23T17:26:47.815965Z"
    },
    "autoscroll": "auto",
    "options": {
     "caption": false,
     "complete": true,
     "display_data": true,
     "display_stream": true,
     "dpi": 200,
     "echo": true,
     "evaluate": false,
     "f_env": null,
     "f_pos": "htpb",
     "f_size": [
      6,
      4
     ],
     "f_spines": true,
     "fig": true,
     "include": true,
     "name": null,
     "option_string": "evaluate=False",
     "results": "verbatim",
     "term": false,
     "wrap": "output"
    },
    "slideshow": {
     "slide_type": "subslide"
    }
   },
   "outputs": [],
   "source": []
  },
  {
   "cell_type": "markdown",
   "metadata": {
    "slideshow": {
     "slide_type": "slide"
    }
   },
   "source": [
    "\n",
    "\n",
    "\n",
    "## Question: categorical plots, barplots\n",
    "\n",
    "The `Titanic`  dataset may be compared with datasets generated by\n",
    "*surveys* (*questionnaires*). In such datasets, each row correspond\n",
    "to an individual. An individual is described by *demographic* variables\n",
    "and *attitudinal/response* variables. Here, `Age, Sex, Pclass, Embarked, ...`\n",
    "are considered as demographic variables while `Survived` is\n",
    "regarded as an attitudinal/response variable. It is desirable to plot the response\n",
    "variable as a function of (some of) the demographic variables.\n",
    "All variables are categorical.\n",
    "\n",
    "### Answer\n",
    "\n"
   ]
  },
  {
   "cell_type": "code",
   "execution_count": 72,
   "metadata": {
    "ExecuteTime": {
     "end_time": "2020-02-23T22:28:59.734178Z",
     "start_time": "2020-02-23T22:28:58.878568Z"
    },
    "autoscroll": "auto",
    "options": {
     "caption": false,
     "complete": true,
     "display_data": true,
     "display_stream": true,
     "dpi": 200,
     "echo": true,
     "evaluate": false,
     "f_env": null,
     "f_pos": "htpb",
     "f_size": [
      6,
      4
     ],
     "f_spines": true,
     "fig": true,
     "include": true,
     "name": null,
     "option_string": "evaluate=False",
     "results": "verbatim",
     "term": false,
     "wrap": "output"
    },
    "scrolled": true,
    "slideshow": {
     "slide_type": "subslide"
    }
   },
   "outputs": [
    {
     "data": {
      "image/png": "[encoded data removed]",
      "text/plain": [
       "<Figure size 456.645x360 with 1 Axes>"
      ]
     },
     "metadata": {
      "needs_background": "light"
     },
     "output_type": "display_data"
    }
   ],
   "source": [
    "\n",
    "titanic = sns.load_dataset(\"titanic\")\n",
    "sns.catplot(x=\"sex\", y=\"survived\", hue=\"class\", kind=\"bar\", data=titanic);\n"
   ]
  },
  {
   "cell_type": "markdown",
   "metadata": {
    "slideshow": {
     "slide_type": "slide"
    }
   },
   "source": [
    "\n",
    "Barplots do not give us hints about the size of the different sub-populations.\n",
    "\n",
    "\n",
    "## Question: categorical plots, mosaicplots\n",
    "\n",
    "\n",
    "\n",
    "You have drawn a `boxplot` of `Age` with respect to passenger class (`Pclass`).\n",
    "It would be nice to complement the plot with an indication of the number of missing values.\n",
    "It would also make sense to indicate the number of individuals in each subsample.\n",
    "\n",
    "Mosaicplot as delivered by module `statsmodels` is a very\n",
    "powerful tool to visualize *contingency tables*.\n",
    "\n",
    "A *two-way contingency table* and the associated `mosaicplot` reveal that\n",
    "the passengers who boarded in the three harbors (Southampton, Cherbourg, Q)\n",
    "did not buy the same kind of tickets. Half of the passengers embarked at Cherbourg\n",
    "travelled first class while at most one fourth of the passengers embarked\n",
    "at Southampton did.\n",
    "\n",
    "### Answer\n",
    "\n"
   ]
  },
  {
   "cell_type": "code",
   "execution_count": 325,
   "metadata": {
    "ExecuteTime": {
     "end_time": "2020-02-23T19:14:44.106002Z",
     "start_time": "2020-02-23T19:14:43.862005Z"
    },
    "autoscroll": "auto",
    "options": {
     "caption": false,
     "complete": true,
     "display_data": true,
     "display_stream": true,
     "dpi": 200,
     "echo": true,
     "evaluate": false,
     "f_env": null,
     "f_pos": "htpb",
     "f_size": [
      6,
      4
     ],
     "f_spines": true,
     "fig": true,
     "include": true,
     "name": null,
     "option_string": "evaluate=False",
     "results": "verbatim",
     "term": false,
     "wrap": "output"
    },
    "slideshow": {
     "slide_type": "subslide"
    }
   },
   "outputs": [
    {
     "data": {
      "text/plain": [
       "<matplotlib.axes._subplots.AxesSubplot at 0x7f6c7172df90>"
      ]
     },
     "execution_count": 325,
     "metadata": {},
     "output_type": "execute_result"
    },
    {
     "data": {
      "image/png": "[encoded data removed]",
      "text/plain": [
       "<Figure size 864x432 with 1 Axes>"
      ]
     },
     "metadata": {
      "needs_background": "light"
     },
     "output_type": "display_data"
    }
   ],
   "source": [
    "plt.figure(figsize=(12, 6))\n",
    "sns.boxplot(x='Pclass', y='Age', data=df)"
   ]
  },
  {
   "cell_type": "markdown",
   "metadata": {
    "slideshow": {
     "slide_type": "slide"
    }
   },
   "source": [
    "\n",
    "## Question: three-way mosaicplots\n",
    "\n",
    "A three-way contingency illustrate the association between `Sex`, `Pclass`\n",
    "and `Survived`.\n",
    "\n",
    "### Answer\n",
    "\n"
   ]
  },
  {
   "cell_type": "code",
   "execution_count": 73,
   "metadata": {
    "ExecuteTime": {
     "end_time": "2020-02-23T22:29:19.291550Z",
     "start_time": "2020-02-23T22:29:18.760190Z"
    },
    "autoscroll": "auto",
    "options": {
     "caption": false,
     "complete": true,
     "display_data": true,
     "display_stream": true,
     "dpi": 200,
     "echo": true,
     "evaluate": false,
     "f_env": null,
     "f_pos": "htpb",
     "f_size": [
      6,
      4
     ],
     "f_spines": true,
     "fig": true,
     "include": true,
     "name": null,
     "option_string": "evaluate=False",
     "results": "verbatim",
     "term": false,
     "wrap": "output"
    },
    "scrolled": true,
    "slideshow": {
     "slide_type": "subslide"
    }
   },
   "outputs": [
    {
     "data": {
      "text/plain": [
       "(<Figure size 432x288 with 3 Axes>,\n",
       " OrderedDict([(('3', '0', 'male'),\n",
       "               (0.0, 0.0, 0.4390325306759988, 0.7551204065200181)),\n",
       "              (('3', '0', 'female'),\n",
       "               (0.44024230920497265,\n",
       "                0.0,\n",
       "                0.10536780736223976,\n",
       "                0.7551204065200181)),\n",
       "              (('3', '1', 'male'),\n",
       "               (0.0,\n",
       "                0.7584426656562308,\n",
       "                0.21501525956132103,\n",
       "                0.2415573343437692)),\n",
       "              (('3', '1', 'female'),\n",
       "               (0.21622503809029492,\n",
       "                0.7584426656562308,\n",
       "                0.3293850784769174,\n",
       "                0.2415573343437692)),\n",
       "              (('1', '0', 'male'),\n",
       "               (0.5505606116167173,\n",
       "                0.0,\n",
       "                0.23051085596364515,\n",
       "                0.3691399040236249)),\n",
       "              (('1', '0', 'female'),\n",
       "               (0.7816036715768153,\n",
       "                0.0,\n",
       "                0.008980942440142015,\n",
       "                0.3691399040236249)),\n",
       "              (('1', '1', 'male'),\n",
       "               (0.5505606116167173,\n",
       "                0.37246216315983754,\n",
       "                0.07924360976595897,\n",
       "                0.6275378368401624)),\n",
       "              (('1', '1', 'female'),\n",
       "               (0.6303364253791292,\n",
       "                0.37246216315983754,\n",
       "                0.16024818863782817,\n",
       "                0.6275378368401624)),\n",
       "              (('2', '0', 'male'),\n",
       "               (0.7955351090664623,\n",
       "                0.0,\n",
       "                0.19139226195461112,\n",
       "                0.5254225046944966)),\n",
       "              (('2', '0', 'female'),\n",
       "               (0.9873807299810147,\n",
       "                0.0,\n",
       "                0.012619270018985348,\n",
       "                0.5254225046944966)),\n",
       "              (('2', '1', 'male'),\n",
       "               (0.7955351090664623,\n",
       "                0.5287447638307091,\n",
       "                0.03986432233966827,\n",
       "                0.4712552361692907)),\n",
       "              (('2', '1', 'female'),\n",
       "               (0.8358527903660719,\n",
       "                0.5287447638307091,\n",
       "                0.16414720963392818,\n",
       "                0.4712552361692907))]))"
      ]
     },
     "execution_count": 73,
     "metadata": {},
     "output_type": "execute_result"
    },
    {
     "data": {
      "image/png": "[encoded data removed]",
      "text/plain": [
       "<Figure size 432x288 with 3 Axes>"
      ]
     },
     "metadata": {
      "needs_background": "light"
     },
     "output_type": "display_data"
    }
   ],
   "source": [
    "\n",
    "mosaic(df, ['Pclass', 'Survived', 'Sex'])"
   ]
  },
  {
   "cell_type": "markdown",
   "metadata": {
    "slideshow": {
     "slide_type": "slide"
    }
   },
   "source": [
    "\n",
    "## Question: roommates\n",
    "\n",
    "For each passenger, compute the number of passengers in the same cabin (including himself).\n",
    "Add a column called `Roommates` that contain this information.\n",
    "When the cabin information is missing, then the `Roommates` is missing as well.\n",
    "You will need to use `groupby` and `join` operations.\n",
    "\n",
    "\n",
    "\n",
    "**Warning.** You should not `reset_index` after the `groupby` operation if you `join` with the resulting dataframe.\n",
    "\n",
    "\n",
    "We may proceed by projecting on columns\n",
    "`PassengerId,  and `Cabin` while filtering (selecting) the rows\n",
    "where `Cabin` is available. This is the `df_cabin` dataframe below.\n",
    "\n",
    "\n"
   ]
  },
  {
   "cell_type": "markdown",
   "metadata": {
    "slideshow": {
     "slide_type": "slide"
    }
   },
   "source": [
    "\n",
    "- Plot `Roommates` according to `Pclass`\n",
    "- Plot `Roommates` according to `Embarkment`\n",
    "- Plot `Roommates` according to `Sex`\n",
    "\n",
    "### Answer"
   ]
  },
  {
   "cell_type": "code",
   "execution_count": 330,
   "metadata": {
    "ExecuteTime": {
     "end_time": "2020-02-23T19:16:40.839754Z",
     "start_time": "2020-02-23T19:16:40.489314Z"
    },
    "autoscroll": "auto",
    "options": {
     "caption": false,
     "complete": true,
     "display_data": true,
     "display_stream": true,
     "dpi": 200,
     "echo": true,
     "evaluate": false,
     "f_env": null,
     "f_pos": "htpb",
     "f_size": [
      6,
      4
     ],
     "f_spines": true,
     "fig": true,
     "include": true,
     "name": null,
     "option_string": "evaluate=False",
     "results": "verbatim",
     "term": false,
     "wrap": "output"
    },
    "slideshow": {
     "slide_type": "subslide"
    }
   },
   "outputs": [],
   "source": [
    "roomates=[]\n",
    "for row in df.itertuples():\n",
    "    if(row.Cabin == 'nan'):\n",
    "        roomates.append(None)\n",
    "    else:\n",
    "        roommates.append(len(df[df.Cabin==row.Cabin]))\n",
    "new=pd.DataFrame({'roomates':roommates})\n",
    "        \n",
    "df=df.join(new)\n"
   ]
  },
  {
   "cell_type": "markdown",
   "metadata": {
    "slideshow": {
     "slide_type": "slide"
    }
   },
   "source": [
    "\n",
    "\n",
    "## Question: plotting  `RoomMates` column.\n",
    "\n",
    "\n",
    "### Answer\n",
    "\n"
   ]
  },
  {
   "cell_type": "code",
   "execution_count": 331,
   "metadata": {
    "ExecuteTime": {
     "end_time": "2020-02-23T19:16:48.497552Z",
     "start_time": "2020-02-23T19:16:47.997938Z"
    },
    "autoscroll": "auto",
    "options": {
     "caption": false,
     "complete": true,
     "display_data": true,
     "display_stream": true,
     "dpi": 200,
     "echo": true,
     "evaluate": false,
     "f_env": null,
     "f_pos": "htpb",
     "f_size": [
      6,
      4
     ],
     "f_spines": true,
     "fig": true,
     "include": true,
     "name": null,
     "option_string": "evaluate=False",
     "results": "verbatim",
     "term": false,
     "wrap": "output"
    },
    "slideshow": {
     "slide_type": "subslide"
    }
   },
   "outputs": [
    {
     "data": {
      "text/plain": [
       "<matplotlib.axes._subplots.AxesSubplot at 0x7f6c6d9fe250>"
      ]
     },
     "execution_count": 331,
     "metadata": {},
     "output_type": "execute_result"
    },
    {
     "data": {
      "image/png": "[encoded data removed]",
      "text/plain": [
       "<Figure size 720x720 with 3 Axes>"
      ]
     },
     "metadata": {
      "needs_background": "light"
     },
     "output_type": "display_data"
    }
   ],
   "source": [
    "fig, axes = plt.subplots(nrows=1, ncols=3, figsize=(10, 10))\n",
    "\n",
    "sns.boxplot(x='Pclass', y='roomates', data=df,ax=fig.axes[0])\n",
    "sns.boxplot(x='Embarked', y='roomates', data=df,ax=fig.axes[1])\n",
    "sns.boxplot(x='Sex', y='roomates', data=df,ax=fig.axes[2])\n"
   ]
  },
  {
   "cell_type": "markdown",
   "metadata": {
    "slideshow": {
     "slide_type": "slide"
    }
   },
   "source": [
    "\n",
    "\n",
    "## Question: surviving together\n",
    "\n",
    "Is there a cabin where some passengers survived while others did not?\n",
    "\n",
    "\n",
    "### Answer\n",
    "\n"
   ]
  },
  {
   "cell_type": "code",
   "execution_count": 258,
   "metadata": {
    "ExecuteTime": {
     "end_time": "2020-02-23T18:19:15.200006Z",
     "start_time": "2020-02-23T18:19:15.182968Z"
    },
    "autoscroll": "auto",
    "options": {
     "caption": false,
     "complete": true,
     "display_data": true,
     "display_stream": true,
     "dpi": 200,
     "echo": true,
     "evaluate": false,
     "f_env": null,
     "f_pos": "htpb",
     "f_size": [
      6,
      4
     ],
     "f_spines": true,
     "fig": true,
     "include": true,
     "name": null,
     "option_string": "evaluate=False",
     "results": "verbatim",
     "term": false,
     "wrap": "output"
    },
    "slideshow": {
     "slide_type": "subslide"
    }
   },
   "outputs": [
    {
     "data": {
      "text/plain": [
       "2"
      ]
     },
     "execution_count": 258,
     "metadata": {},
     "output_type": "execute_result"
    }
   ],
   "source": [
    "df[df.Cabin=='G6'].Survived.nunique(dropna=True)"
   ]
  },
  {
   "cell_type": "markdown",
   "metadata": {
    "slideshow": {
     "slide_type": "slide"
    }
   },
   "source": [
    "\n",
    "\n",
    "## Question: Missing `Cabin`  value and `Age`\n",
    "\n",
    "\n",
    "The `Cabin` column is `NaN` for many rows, how are\n",
    "those missing data distributed acrross the classes?\n",
    "\n",
    "Plot the age distribution with\n",
    "respect to the availability of the `Cabin` column (`Cabin.isna()`).\n",
    "\n",
    "### Answer\n"
   ]
  },
  {
   "cell_type": "code",
   "execution_count": 270,
   "metadata": {
    "ExecuteTime": {
     "end_time": "2020-02-23T18:34:39.388869Z",
     "start_time": "2020-02-23T18:34:37.618882Z"
    },
    "autoscroll": "auto",
    "options": {
     "caption": false,
     "complete": true,
     "display_data": true,
     "display_stream": true,
     "dpi": 200,
     "echo": true,
     "evaluate": false,
     "f_env": null,
     "f_pos": "htpb",
     "f_size": [
      6,
      4
     ],
     "f_spines": true,
     "fig": true,
     "include": true,
     "name": null,
     "option_string": "evaluate=False",
     "results": "verbatim",
     "term": false,
     "wrap": "output"
    },
    "slideshow": {
     "slide_type": "subslide"
    }
   },
   "outputs": [
    {
     "data": {
      "text/plain": [
       "<matplotlib.axes._subplots.AxesSubplot at 0x7f6c6c68bb50>"
      ]
     },
     "execution_count": 270,
     "metadata": {},
     "output_type": "execute_result"
    },
    {
     "data": {
      "image/png": "[encoded data removed]",
      "text/plain": [
       "<Figure size 576x360 with 1 Axes>"
      ]
     },
     "metadata": {
      "needs_background": "light"
     },
     "output_type": "display_data"
    }
   ],
   "source": [
    "plt.figure(figsize=(8, 5))\n",
    "sns.stripplot(x='Cabin', y='Age', jitter=True, data=df)"
   ]
  },
  {
   "cell_type": "markdown",
   "metadata": {
    "slideshow": {
     "slide_type": "slide"
    }
   },
   "source": [
    "\n",
    "\n",
    "## Question: Milking the `Name` column\n",
    "\n",
    "Column `Name` gathers different kind of information pertaining\n",
    "to a passenger: name, civility,\n",
    "and given name(s). For some female passengers, the apparent given names\n",
    "are actually the husband's name and the maidens name is indicated between\n",
    "parentheses.\n",
    "\n",
    "The information contained in the `Name` column Has to be extracted in a proper way:\n",
    "The string should be into three parts: the first one containing the name,\n",
    "the second one containing the civility  and, the last one\n",
    "possibly containing given names or given names plus maiden names. Passing is\n",
    "facilitated by the next observation: the name is followed by a comma, the\n",
    "civility is followed by a period. You may use regular expressions\n",
    "as providede by  module `re`  or module `regex`.\n",
    "\n",
    "\n",
    "- Split the information contained in `Name` into three columns `Name`, `Given_names`, and `Civility`.\n",
    "- Go one step further. Extract the *maiden name* and actual *given names* when information available.\n",
    "\n",
    "At the end of the day, column `Name` should contain the *maiden name* for married female passengers\n",
    "Column `Given_Names` should contain the real given names of the passenger, not the ones of the spouse.\n",
    "\n",
    "To learn more about Regular Expressions see the documentation\n",
    "of the [`re` module](https://docs.python.org/3/library/re.html#module-re)\n",
    "and the tutorial [Howto](https://docs.python.org/3/howto/regex.html#regex-howto)\n",
    "\n",
    "Understand the difference between a `string` and a `raw string`.\n",
    "\n"
   ]
  },
  {
   "cell_type": "code",
   "execution_count": 272,
   "metadata": {
    "ExecuteTime": {
     "end_time": "2020-02-23T18:38:01.561562Z",
     "start_time": "2020-02-23T18:38:01.552122Z"
    },
    "autoscroll": "auto",
    "options": {
     "caption": false,
     "complete": true,
     "display_data": true,
     "display_stream": true,
     "dpi": 200,
     "echo": true,
     "evaluate": false,
     "f_env": null,
     "f_pos": "htpb",
     "f_size": [
      6,
      4
     ],
     "f_spines": true,
     "fig": true,
     "include": true,
     "name": null,
     "option_string": "evaluate=False",
     "results": "verbatim",
     "term": false,
     "wrap": "output"
    },
    "slideshow": {
     "slide_type": "subslide"
    }
   },
   "outputs": [
    {
     "name": "stdout",
     "output_type": "stream",
     "text": [
      "\\n is not a newline \n",
      "is a newline\n",
      " \\\n",
      " is not a newline\n",
      "\n"
     ]
    }
   ],
   "source": [
    "print(r\"\\n is not a newline\", \"\\nis a newline\\n\", \"\\\\\\\\n is not a newline\\n\")\n"
   ]
  },
  {
   "cell_type": "markdown",
   "metadata": {
    "slideshow": {
     "slide_type": "subslide"
    }
   },
   "source": [
    "\n",
    "### Answer\n",
    "\n"
   ]
  },
  {
   "cell_type": "code",
   "execution_count": 306,
   "metadata": {
    "ExecuteTime": {
     "end_time": "2020-02-23T19:08:17.270300Z",
     "start_time": "2020-02-23T19:08:17.257493Z"
    },
    "autoscroll": "auto",
    "options": {
     "caption": false,
     "complete": true,
     "display_data": true,
     "display_stream": true,
     "dpi": 200,
     "echo": true,
     "evaluate": false,
     "f_env": null,
     "f_pos": "htpb",
     "f_size": [
      6,
      4
     ],
     "f_spines": true,
     "fig": true,
     "include": true,
     "name": null,
     "option_string": "evaluate=False",
     "results": "verbatim",
     "term": false,
     "wrap": "output"
    },
    "slideshow": {
     "slide_type": "subslide"
    }
   },
   "outputs": [
    {
     "data": {
      "text/plain": [
       "{'Name': 'Braund',\n",
       " 'Civility': ' Mr',\n",
       " 'Given_names': ' Owen Harris',\n",
       " 'Spouse_name': None,\n",
       " 'Maiden_name': None}"
      ]
     },
     "execution_count": 306,
     "metadata": {},
     "output_type": "execute_result"
    }
   ],
   "source": [
    "def parse_name(s):\n",
    "    \"\"\"Parse name field in Titanic data frame.\n",
    "\n",
    "    ACHTUNG: there are some outliers with given names containing parenthsized items. Some people travelled under pseudonyms (see [Henry Samuel Morley](https://www.encyclopedia-titanica.org/titanic-victim/henry-samuel-morley.html)).\n",
    "    \"\"\"\n",
    "    name = s\n",
    "    civility, Spouse_name, Maiden_name = None, None, None\n",
    "\n",
    "    # TODO:\n",
    "    name=re.search(r'[a-zA-Z]*,',s)\n",
    "    if(name!=None):\n",
    "        name=name.group(0)\n",
    "        name=name[:len(name)-1]\n",
    "    civility=re.search(r'(?<=,)[ a-zA-Z]*\\.',s)\n",
    "    if(civility!=None):\n",
    "        civility=civility.group(0)\n",
    "        civility=civility[:len(civility)-1]\n",
    "    given_names=re.search(r'(?<=\\.)[ a-zA-Z]*\\(*',s)\n",
    "    if(given_names!=None):\n",
    "        given_names=given_names.group(0)\n",
    "        given_names=given_names[:len(given_names)-1]\n",
    "    Maiden_name=re.search(r'\\([ a-zA-Z]*\\)',s)\n",
    "    if(Maiden_name!=None):\n",
    "        Maiden_name=Maiden_name.group(0)\n",
    "        Maiden_name=Maiden_name[:len(Maiden_name)-1]\n",
    "    return {'Name': name,\n",
    "            'Civility': civility,\n",
    "            'Given_names': given_names,\n",
    "            'Spouse_name': Spouse_name,\n",
    "            'Maiden_name': Maiden_name}\n",
    "\n",
    "parse_name('Braund, Mr. Owen Harris ')"
   ]
  },
  {
   "cell_type": "markdown",
   "metadata": {
    "slideshow": {
     "slide_type": "slide"
    }
   },
   "source": [
    "\n",
    "## Question: about `map` objects\n",
    "\n",
    "What is a `map object`? Is it a sequence (list, tuple, etc)? Is it\n",
    "an `Iterable`? Something else? You may use function `isinstance` and\n",
    "submodule `collections.abc` to settle these questions?\n",
    "\n",
    "### Answer\n",
    "\n"
   ]
  },
  {
   "cell_type": "code",
   "execution_count": null,
   "metadata": {
    "ExecuteTime": {
     "end_time": "2020-02-23T19:01:16.120256Z",
     "start_time": "2020-02-23T19:01:16.083673Z"
    },
    "autoscroll": "auto",
    "options": {
     "caption": false,
     "complete": true,
     "display_data": true,
     "display_stream": true,
     "dpi": 200,
     "echo": true,
     "evaluate": false,
     "f_env": null,
     "f_pos": "htpb",
     "f_size": [
      6,
      4
     ],
     "f_spines": true,
     "fig": true,
     "include": true,
     "name": null,
     "option_string": "evaluate=False",
     "results": "verbatim",
     "term": false,
     "wrap": "output"
    },
    "slideshow": {
     "slide_type": "subslide"
    }
   },
   "outputs": [],
   "source": []
  },
  {
   "cell_type": "markdown",
   "metadata": {
    "slideshow": {
     "slide_type": "slide"
    }
   },
   "source": [
    "\n",
    "## Question: aristocrats on board\n",
    "\n",
    "Some passengers were of noble extraction, or officers in some Army.\n",
    "Point them.\n",
    "\n",
    "### Answer\n",
    "\n"
   ]
  },
  {
   "cell_type": "code",
   "execution_count": null,
   "metadata": {
    "ExecuteTime": {
     "end_time": "2020-02-23T19:17:17.609609Z",
     "start_time": "2020-02-23T19:17:17.541327Z"
    },
    "scrolled": false
   },
   "outputs": [],
   "source": []
  },
  {
   "cell_type": "markdown",
   "metadata": {
    "slideshow": {
     "slide_type": "slide"
    }
   },
   "source": [
    "\n",
    "## Question: How many people are given Civility 'Mrs', 'Miss', 'Mr', 'Master'?\n",
    "\n",
    "\n",
    "### Answer\n",
    "\n"
   ]
  },
  {
   "cell_type": "code",
   "execution_count": null,
   "metadata": {
    "autoscroll": "auto",
    "options": {
     "caption": false,
     "complete": true,
     "display_data": true,
     "display_stream": true,
     "dpi": 200,
     "echo": true,
     "evaluate": false,
     "f_env": null,
     "f_pos": "htpb",
     "f_size": [
      6,
      4
     ],
     "f_spines": true,
     "fig": true,
     "include": true,
     "name": null,
     "option_string": "evaluate=False",
     "results": "verbatim",
     "term": false,
     "wrap": "output"
    },
    "slideshow": {
     "slide_type": "subslide"
    }
   },
   "outputs": [],
   "source": []
  },
  {
   "cell_type": "markdown",
   "metadata": {
    "slideshow": {
     "slide_type": "subslide"
    }
   },
   "source": [
    "\n",
    "ACHTUNG: there are some outliers with given names containing parenthsized items. Some people travelled under pseudonyms (see [Henry Samuel Morley](https://www.encyclopedia-titanica.org/titanic-victim/henry-samuel-morley.html)).\n",
    "\n"
   ]
  },
  {
   "cell_type": "code",
   "execution_count": null,
   "metadata": {
    "ExecuteTime": {
     "end_time": "2020-02-23T19:40:47.911409Z",
     "start_time": "2020-02-23T19:40:47.867783Z"
    },
    "autoscroll": "auto",
    "options": {
     "caption": false,
     "complete": true,
     "display_data": true,
     "display_stream": true,
     "dpi": 200,
     "echo": true,
     "evaluate": false,
     "f_env": null,
     "f_pos": "htpb",
     "f_size": [
      6,
      4
     ],
     "f_spines": true,
     "fig": true,
     "include": true,
     "name": null,
     "option_string": "evaluate=False",
     "results": "verbatim",
     "term": false,
     "wrap": "output"
    },
    "slideshow": {
     "slide_type": "subslide"
    }
   },
   "outputs": [],
   "source": []
  },
  {
   "cell_type": "markdown",
   "metadata": {
    "slideshow": {
     "slide_type": "slide"
    }
   },
   "source": [
    "\n",
    "\n",
    "## Question:  For each embarkment and sex, visualize the survival ratio.\n",
    "\n",
    "\n",
    "### Answer\n",
    "\n"
   ]
  },
  {
   "cell_type": "code",
   "execution_count": 345,
   "metadata": {
    "ExecuteTime": {
     "end_time": "2020-02-23T19:46:34.371731Z",
     "start_time": "2020-02-23T19:46:34.355861Z"
    },
    "autoscroll": "auto",
    "options": {
     "caption": false,
     "complete": true,
     "display_data": true,
     "display_stream": true,
     "dpi": 200,
     "echo": true,
     "evaluate": false,
     "f_env": null,
     "f_pos": "htpb",
     "f_size": [
      6,
      4
     ],
     "f_spines": true,
     "fig": true,
     "include": true,
     "name": null,
     "option_string": "evaluate=False",
     "results": "verbatim",
     "term": false,
     "wrap": "output"
    },
    "slideshow": {
     "slide_type": "subslide"
    }
   },
   "outputs": [
    {
     "data": {
      "text/plain": [
       "Embarked\n",
       "C    0.553571\n",
       "Q    0.389610\n",
       "S    0.336957\n",
       "Name: Survived, dtype: float64"
      ]
     },
     "execution_count": 345,
     "metadata": {},
     "output_type": "execute_result"
    }
   ],
   "source": [
    "df = pd.read_csv('train.csv')\n",
    "\n",
    "df.groupby('Sex').Survived.mean()\n",
    "df.groupby('Embarked').Survived.mean()\n",
    "\n"
   ]
  },
  {
   "cell_type": "markdown",
   "metadata": {
    "slideshow": {
     "slide_type": "slide"
    }
   },
   "source": [
    "\n",
    "## Question: for each `Pclass` and `Sex`, visualize the survival ratio,\n",
    "\n",
    "### Answer\n",
    "\n"
   ]
  },
  {
   "cell_type": "code",
   "execution_count": null,
   "metadata": {
    "autoscroll": "auto",
    "options": {
     "caption": false,
     "complete": true,
     "display_data": true,
     "display_stream": true,
     "dpi": 200,
     "echo": true,
     "evaluate": false,
     "f_env": null,
     "f_pos": "htpb",
     "f_size": [
      6,
      4
     ],
     "f_spines": true,
     "fig": true,
     "include": true,
     "name": null,
     "option_string": "evaluate=False",
     "results": "verbatim",
     "term": false,
     "wrap": "output"
    },
    "slideshow": {
     "slide_type": "subslide"
    }
   },
   "outputs": [],
   "source": []
  },
  {
   "cell_type": "markdown",
   "metadata": {
    "slideshow": {
     "slide_type": "slide"
    }
   },
   "source": [
    "\n",
    "\n",
    "## Question: compute pairwise correlations between numerical columns.\n",
    "\n",
    "\n",
    "### Answer\n",
    "\n"
   ]
  },
  {
   "cell_type": "code",
   "execution_count": null,
   "metadata": {
    "autoscroll": "auto",
    "options": {
     "caption": false,
     "complete": true,
     "display_data": true,
     "display_stream": true,
     "dpi": 200,
     "echo": true,
     "evaluate": false,
     "f_env": null,
     "f_pos": "htpb",
     "f_size": [
      6,
      4
     ],
     "f_spines": true,
     "fig": true,
     "include": true,
     "name": null,
     "option_string": "evaluate=False",
     "results": "verbatim",
     "term": false,
     "wrap": "output"
    },
    "slideshow": {
     "slide_type": "subslide"
    }
   },
   "outputs": [],
   "source": [
    "\n"
   ]
  },
  {
   "cell_type": "markdown",
   "metadata": {
    "slideshow": {
     "slide_type": "slide"
    }
   },
   "source": [
    "\n",
    "\n",
    "## Pandas and SQL\n",
    "\n",
    "A systematic comparison between Pandas and SQL querying can be found\n",
    "at\n",
    "[https://pandas.pydata.org/pandas-docs/stable/getting_started/comparison/comparison_with_sql.html](https://pandas.pydata.org/pandas-docs/stable/getting_started/comparison/comparison_with_sql.html)\n",
    "\n",
    "\n",
    "## Pandas pipeliness\n",
    "\n",
    "Loading and transforming datasets is a cumbersome task. It is very likely that\n",
    "the sequence of transformations you have performed on the `train.csv`  dataset will\n",
    "be carried out on other datasets (just think about `test.csv`). For the sake of\n",
    "reproducibility, it is convenient to build a *transformation pipeline*.\n",
    "The `pipe` method for `DataFrame` class provides us with a means to do that.\n",
    "\n",
    "Pipelining DataFrame methods is easy, it is enough to write:\n",
    "\n"
   ]
  },
  {
   "cell_type": "code",
   "execution_count": null,
   "metadata": {
    "autoscroll": "auto",
    "options": {
     "caption": false,
     "complete": true,
     "display_data": true,
     "display_stream": true,
     "dpi": 200,
     "echo": true,
     "evaluate": false,
     "f_env": null,
     "f_pos": "htpb",
     "f_size": [
      6,
      4
     ],
     "f_spines": true,
     "fig": true,
     "include": true,
     "name": null,
     "option_string": "evaluate=False",
     "results": "verbatim",
     "term": false,
     "wrap": "output"
    },
    "slideshow": {
     "slide_type": "subslide"
    }
   },
   "outputs": [],
   "source": [
    "# df.meth1(arg11, arg12)\\\n",
    "#   .meth2(arg21)\\\n",
    "#   .meth3(arg31, arg32, arg33)\\\n",
    "#   ...\n"
   ]
  },
  {
   "cell_type": "markdown",
   "metadata": {
    "slideshow": {
     "slide_type": "slide"
    }
   },
   "source": [
    "\n",
    "### `pipe` method for class `DataFrame`\n",
    "\n",
    "\n",
    "The `pipe` method allows us to chain transformations implemented by functions.\n",
    "Pipelining ordinary functions can be done using the `pipe` method of\n",
    "class `DataFrame`.\n",
    "\n"
   ]
  },
  {
   "cell_type": "code",
   "execution_count": 348,
   "metadata": {
    "ExecuteTime": {
     "end_time": "2020-02-23T19:48:48.980201Z",
     "start_time": "2020-02-23T19:48:48.950085Z"
    },
    "autoscroll": "auto",
    "options": {
     "caption": false,
     "complete": true,
     "display_data": true,
     "display_stream": true,
     "dpi": 200,
     "echo": true,
     "evaluate": true,
     "f_env": null,
     "f_pos": "htpb",
     "f_size": [
      6,
      4
     ],
     "f_spines": true,
     "fig": true,
     "include": true,
     "name": null,
     "option_string": "",
     "results": "verbatim",
     "term": false,
     "wrap": "output"
    },
    "slideshow": {
     "slide_type": "subslide"
    }
   },
   "outputs": [
    {
     "name": "stdout",
     "output_type": "stream",
     "text": [
      "     PassengerId  Survived  Pclass  \\\n",
      "0              1         0       3   \n",
      "1              2         1       1   \n",
      "2              3         1       3   \n",
      "3              4         1       1   \n",
      "4              5         0       3   \n",
      "..           ...       ...     ...   \n",
      "886          887         0       2   \n",
      "887          888         1       1   \n",
      "888          889         0       3   \n",
      "889          890         1       1   \n",
      "890          891         0       3   \n",
      "\n",
      "                                                  Name     Sex   Age  SibSp  \\\n",
      "0                              Braund, Mr. Owen Harris    male  22.0      1   \n",
      "1    Cumings, Mrs. John Bradley (Florence Briggs Th...  female  38.0      1   \n",
      "2                               Heikkinen, Miss. Laina  female  26.0      0   \n",
      "3         Futrelle, Mrs. Jacques Heath (Lily May Peel)  female  35.0      1   \n",
      "4                             Allen, Mr. William Henry    male  35.0      0   \n",
      "..                                                 ...     ...   ...    ...   \n",
      "886                              Montvila, Rev. Juozas    male  27.0      0   \n",
      "887                       Graham, Miss. Margaret Edith  female  19.0      0   \n",
      "888           Johnston, Miss. Catherine Helen \"Carrie\"  female   NaN      1   \n",
      "889                              Behr, Mr. Karl Howell    male  26.0      0   \n",
      "890                                Dooley, Mr. Patrick    male  32.0      0   \n",
      "\n",
      "     Parch            Ticket     Fare Cabin Embarked  \n",
      "0        0         A/5 21171   7.2500   NaN        S  \n",
      "1        0          PC 17599  71.2833   C85        C  \n",
      "2        0  STON/O2. 3101282   7.9250   NaN        S  \n",
      "3        0            113803  53.1000  C123        S  \n",
      "4        0            373450   8.0500   NaN        S  \n",
      "..     ...               ...      ...   ...      ...  \n",
      "886      0            211536  13.0000   NaN        S  \n",
      "887      0            112053  30.0000   B42        S  \n",
      "888      2        W./C. 6607  23.4500   NaN        S  \n",
      "889      0            111369  30.0000  C148        C  \n",
      "890      0            370376   7.7500   NaN        Q  \n",
      "\n",
      "[891 rows x 12 columns]\n"
     ]
    }
   ],
   "source": [
    "df.pipe(print)"
   ]
  },
  {
   "cell_type": "markdown",
   "metadata": {
    "slideshow": {
     "slide_type": "slide"
    }
   },
   "source": [
    "\n",
    "\n",
    "### Module `pdpipe`\n",
    "\n",
    "Module [`pdpipe`](https://pdpipe.github.io/pdpipe/) is more ambitious.\n",
    "\n",
    "A *transformation pipeline* defines a sequence of operations that should be applied\n",
    "to a dataframe. In the `pdpipe` framework, it is an instance of class `pdpipe.PdPipeLine`\n",
    "\n"
   ]
  },
  {
   "cell_type": "markdown",
   "metadata": {
    "slideshow": {
     "slide_type": "slide"
    }
   },
   "source": [
    "\n",
    "\n",
    "## Question: use `pdpipe`\n",
    "\n",
    "Build a pipeline of transformatioms\n",
    "using the [pdpipe](https://pdpipe.github.io/pdpipe/doc/pdpipe/) module.\n",
    "\n",
    "### Answer\n",
    "\n"
   ]
  },
  {
   "cell_type": "code",
   "execution_count": 352,
   "metadata": {
    "ExecuteTime": {
     "end_time": "2020-02-23T19:52:42.807645Z",
     "start_time": "2020-02-23T19:52:42.792614Z"
    }
   },
   "outputs": [
    {
     "data": {
      "text/plain": [
       "A pdpipe pipeline:\n",
       "[ 0]  Drop column Name\n",
       "[ 1]  One-hot encode Label\n",
       "[ 2]  Drop values -1 in column Children"
      ]
     },
     "execution_count": 352,
     "metadata": {},
     "output_type": "execute_result"
    }
   ],
   "source": [
    "import pdpipe as pdp\n",
    "pipeline = pdp.ColDrop(\"Name\").OneHotEncode(\"Label\").ValDrop([-1], \"Children\")\n",
    "pipeline"
   ]
  },
  {
   "cell_type": "markdown",
   "metadata": {
    "slideshow": {
     "slide_type": "slide"
    }
   },
   "source": [
    "\n",
    "\n",
    "## Miscellanea\n",
    "\n",
    "Browse the `seaborn` documentation in order to make up your\n",
    "mind on the following questions.\n",
    "\n",
    "1. What is a *hue*?\n",
    "1. Is the *colorPalette* part of style?\n",
    "1. What is a saturation channel?\n",
    "1. What is a saturation channel made for?\n",
    "1. What is an *aesthetic parameter*?\n",
    "1. What is the type of `seaborn.FacetGrid`?\n",
    "\n",
    "\n"
   ]
  },
  {
   "cell_type": "code",
   "execution_count": null,
   "metadata": {},
   "outputs": [],
   "source": [
    "# 1 in a plot the relationship between x and y can be shown for different subsets of the data using the hue\n",
    "# 2 color Palette contains colors to use for the different levels of the hue variable\n",
    "# it is not part of style\n"
   ]
  }
 ],
 "metadata": {
  "celltoolbar": "Slideshow",
  "kernel_info": {
   "name": "python3"
  },
  "kernelspec": {
   "display_name": "Python 3",
   "language": "python",
   "name": "python3"
  },
  "language_info": {
   "codemirror_mode": {
    "name": "ipython",
    "version": 3
   },
   "file_extension": ".py",
   "mimetype": "text/x-python",
   "name": "python",
   "nbconvert_exporter": "python",
   "pygments_lexer": "ipython3",
   "version": "3.7.5"
  },
  "nteract": {
   "version": "0.15.0"
  },
  "toc": {
   "base_numbering": 1,
   "nav_menu": {},
   "number_sections": true,
   "sideBar": true,
   "skip_h1_title": false,
   "title_cell": "Table of Contents",
   "title_sidebar": "Contents",
   "toc_cell": false,
   "toc_position": {},
   "toc_section_display": true,
   "toc_window_display": false
  }
 },
 "nbformat": 4,
 "nbformat_minor": 4
}
